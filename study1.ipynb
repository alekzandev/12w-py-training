{
 "cells": [
  {
   "cell_type": "markdown",
   "metadata": {},
   "source": [
    "# SINTAXIS BASICA"
   ]
  },
  {
   "cell_type": "markdown",
   "metadata": {},
   "source": [
    "### Tipos de Datos"
   ]
  },
  {
   "cell_type": "markdown",
   "metadata": {},
   "source": [
    "#### Existen varios tipos de datos:\n",
    "\n",
    "* Texto (str) [\"hola\"]\n",
    "* Numeros enteros (int) [8]\n",
    "* Numeros racionales (float) [3.14]\n",
    "* Logico (bool) [True,False]\n"
   ]
  },
  {
   "cell_type": "code",
   "execution_count": null,
   "metadata": {},
   "outputs": [
    {
     "name": "stdout",
     "output_type": "stream",
     "text": [
      "Hola mundo 813 True 3.14\n",
      "Esto es un numero --°--> 3.14\n"
     ]
    }
   ],
   "source": [
    "print(\"Hola mundo\", 813, True, 3.14)\n",
    "print(\"Esto es un numero ---->\", 3.14)"
   ]
  },
  {
   "cell_type": "code",
   "execution_count": 18,
   "metadata": {},
   "outputs": [
    {
     "name": "stdout",
     "output_type": "stream",
     "text": [
      "<class 'str'>\n",
      "<class 'int'>\n",
      "<class 'float'>\n",
      "<class 'bool'>\n",
      "<class 'list'>\n",
      "<class 'dict'>\n",
      "<class 'tuple'>\n"
     ]
    }
   ],
   "source": [
    "print(type(\"Hola Jefe\")) #type muestra el tipo de dato\n",
    "print(type(89))\n",
    "print(type(4.22))\n",
    "print(type(True))\n",
    "print(type([1,2,3,4,5]))\n",
    "print(type({\"a\":\"palabra1\",\"b\":\"palabra2\",\"c\":98,\"d\":False}))\n",
    "print(type((1,2,3,4,5)))"
   ]
  },
  {
   "cell_type": "markdown",
   "metadata": {},
   "source": [
    "### Variables"
   ]
  },
  {
   "cell_type": "code",
   "execution_count": 20,
   "metadata": {},
   "outputs": [
    {
     "name": "stdout",
     "output_type": "stream",
     "text": [
      "esto es una variable\n",
      "99\n",
      "True\n"
     ]
    }
   ],
   "source": [
    "#las variables no pueden empezar con numeros - ni tampoco por guiones bajos_ - ni palabras reservadas\n",
    "variable = \"esto es una variable\"\n",
    "print(variable)\n",
    "\n",
    "x = 99\n",
    "print(x)\n",
    "\n",
    "z = True\n",
    "print(z)"
   ]
  },
  {
   "cell_type": "markdown",
   "metadata": {},
   "source": [
    "### El codigo se ejecuta de arriba para abajo, a esto se le llama PROGRAMACION IMPERATIVA"
   ]
  },
  {
   "cell_type": "markdown",
   "metadata": {},
   "source": [
    "### Operadores aritmeticos"
   ]
  },
  {
   "cell_type": "code",
   "execution_count": 24,
   "metadata": {},
   "outputs": [
    {
     "name": "stdout",
     "output_type": "stream",
     "text": [
      "Suma:  8\n",
      "Resta:  2\n",
      "Multiplicacion:  15\n",
      "Division:  1.6666666666666667\n",
      "Division entera:  1\n",
      "Modulo:  2\n",
      "Potencia:  125\n"
     ]
    }
   ],
   "source": [
    "print(\"Suma: \", 5 + 3)\n",
    "print(\"Resta: \", 5 - 3)\n",
    "print(\"Multiplicacion: \", 5 * 3)    \n",
    "print(\"Division: \", 5 / 3)  \n",
    "print(\"Division entera: \", 5 // 3)\n",
    "print(\"Modulo: \", 5 % 3)\n",
    "print(\"Potencia: \", 5 ** 3)"
   ]
  },
  {
   "cell_type": "markdown",
   "metadata": {},
   "source": [
    "### Operadores Relacionales"
   ]
  },
  {
   "cell_type": "markdown",
   "metadata": {},
   "source": [
    "#### por ejemplo:\n",
    "\n",
    "* <>\n",
    "* >\n",
    "* >=\n",
    "* <\n",
    "* <=\n",
    "* !=\n",
    "* ==\n"
   ]
  },
  {
   "cell_type": "code",
   "execution_count": 25,
   "metadata": {},
   "outputs": [
    {
     "name": "stdout",
     "output_type": "stream",
     "text": [
      "Mayor que:  True\n",
      "Menor que:  False\n",
      "Igual que:  False\n",
      "Diferente que:  True\n",
      "Mayor o igual que:  True\n",
      "Menor o igual que:  False\n"
     ]
    }
   ],
   "source": [
    "print(\"Mayor que: \", 5 > 3)\n",
    "print(\"Menor que: \", 5 < 3)\n",
    "print(\"Igual que: \", 5 == 3)\n",
    "print(\"Diferente que: \", 5 != 3)\n",
    "print(\"Mayor o igual que: \", 5 >= 3)\n",
    "print(\"Menor o igual que: \", 5 <= 3)\n"
   ]
  },
  {
   "cell_type": "markdown",
   "metadata": {},
   "source": [
    "### Operadores Lógicos"
   ]
  },
  {
   "cell_type": "markdown",
   "metadata": {},
   "source": [
    "* And: Si y solo si todos los elementos son True, el resultado será True, sino será False\n",
    "\n",
    "        - True and True = True\n",
    "        - False and False = False\n",
    "        - True and False = False\n",
    "        - False and True =False\n",
    "\n",
    "* Or: Si algun elemnto es True dará por resultado True\n",
    "\n",
    "        - True and True = True\n",
    "        - False and False = False\n",
    "        - True and False = True\n",
    "        - False and True = True\n",
    "\n",
    "* Not: es un operador de negación por tanto:\n",
    "\n",
    "        - Not True = Flase\n",
    "        - Not False = True"
   ]
  },
  {
   "cell_type": "code",
   "execution_count": null,
   "metadata": {},
   "outputs": [
    {
     "name": "stdout",
     "output_type": "stream",
     "text": [
      "True\n",
      "False\n",
      "False\n",
      "False\n",
      "False\n"
     ]
    }
   ],
   "source": [
    "# AND\n",
    "print(True and True)\n",
    "print(True and False)\n",
    "print(False and True)\n",
    "print(False and False)\n",
    "print(True and True and 1 > 2)"
   ]
  },
  {
   "cell_type": "code",
   "execution_count": 48,
   "metadata": {},
   "outputs": [
    {
     "name": "stdout",
     "output_type": "stream",
     "text": [
      "True\n",
      "True\n",
      "True\n",
      "False\n"
     ]
    }
   ],
   "source": [
    "# OR\n",
    "print(True or True)\n",
    "print(True or False)\n",
    "print(False or True)\n",
    "print(False or False)"
   ]
  },
  {
   "cell_type": "code",
   "execution_count": 49,
   "metadata": {},
   "outputs": [
    {
     "name": "stdout",
     "output_type": "stream",
     "text": [
      "False\n",
      "True\n"
     ]
    }
   ],
   "source": [
    "# NOT\n",
    "print(not True)\n",
    "print(not False)"
   ]
  },
  {
   "cell_type": "markdown",
   "metadata": {},
   "source": [
    "### Especiales"
   ]
  },
  {
   "cell_type": "markdown",
   "metadata": {},
   "source": [
    "* In:si un elemento se encuentra dentro de otro:\n",
    "\n",
    "        - a = [3, 4]\n",
    "            3 in a # El resultado es True porque el 3 está en a\n",
    "\n",
    "* Not in: si un elemento no se encuetra dentro de otro\n",
    "\n",
    "        - a = [3, 4]\n",
    "            5 not in a # El resultado es True porque 5 no está en a\n",
    "\n",
    "* Is: si los elementos son exactamente iguales\n",
    "\n",
    "        - x = 10\n",
    "          y = 10\n",
    "            x is y # El resultado es True porque ambas variables son exactamente iguales\n",
    "\n",
    "* Not is: si los elementos no son exactamente iguales\n",
    "\n",
    "        - x = 10\n",
    "          y = 15\n",
    "            x not is y # El resultado es True porque los elementos no son exactamente iguales"
   ]
  },
  {
   "cell_type": "code",
   "execution_count": 52,
   "metadata": {},
   "outputs": [
    {
     "name": "stdout",
     "output_type": "stream",
     "text": [
      "True\n"
     ]
    }
   ],
   "source": [
    "# IN\n",
    "t = [4, 5, 6 ,7]\n",
    "print(7 in t)"
   ]
  },
  {
   "cell_type": "code",
   "execution_count": null,
   "metadata": {},
   "outputs": [
    {
     "name": "stdout",
     "output_type": "stream",
     "text": [
      "False\n",
      "True\n"
     ]
    }
   ],
   "source": [
    "# NOT IN\n",
    "r = {\"azul\":1, \"verde\":2, \"rojo\":3}\n",
    "print(2 not in r.values()) # Esto es False porque 2 si esta en los valores del diccionario\n",
    "print(\"fucsia\" not in r.keys()) # esto debe ser True porque efectivamente ese valor no esta\n"
   ]
  },
  {
   "cell_type": "code",
   "execution_count": 60,
   "metadata": {},
   "outputs": [
    {
     "name": "stdout",
     "output_type": "stream",
     "text": [
      "False\n",
      "True\n",
      "False\n",
      "True\n"
     ]
    }
   ],
   "source": [
    "# IS\n",
    "e = 14\n",
    "f = 16\n",
    "c = 14\n",
    "print(e is f) #este resultado debe ser False porque no son exactamente iguales\n",
    "print(e is c) \n",
    "# NOTA: NO COMPARES LISTAS CON IS, PORQUE NO SON IGUALES AUNQUE TENGAN LOS MISMOS VALORES\n",
    "\n",
    "print(type(5) is type(3.2))\n",
    "print(type(\"Hola\") is type(\"mama\"))"
   ]
  },
  {
   "cell_type": "code",
   "execution_count": null,
   "metadata": {},
   "outputs": [],
   "source": []
  },
  {
   "cell_type": "markdown",
   "metadata": {},
   "source": [
    "### Ejercicios"
   ]
  },
  {
   "cell_type": "code",
   "execution_count": 38,
   "metadata": {},
   "outputs": [
    {
     "name": "stdout",
     "output_type": "stream",
     "text": [
      "La nota es :  5.0\n",
      "¿es aprobable? True\n"
     ]
    }
   ],
   "source": [
    "media = (2 + 5 + 10 + 3) / 4\n",
    "print(\"La nota es : \", media)\n",
    "print(\"¿es aprobable?\", media >=7 or media < 10)"
   ]
  },
  {
   "cell_type": "code",
   "execution_count": 44,
   "metadata": {},
   "outputs": [
    {
     "ename": "SyntaxError",
     "evalue": "invalid syntax (935673260.py, line 1)",
     "output_type": "error",
     "traceback": [
      "\u001b[0;36m  Cell \u001b[0;32mIn[44], line 1\u001b[0;36m\u001b[0m\n\u001b[0;31m    and = 3\u001b[0m\n\u001b[0m    ^\u001b[0m\n\u001b[0;31mSyntaxError\u001b[0m\u001b[0;31m:\u001b[0m invalid syntax\n"
     ]
    }
   ],
   "source": [
    "and = 3\n",
    "and + 2\n",
    "#opino que la respuesta es error de sintaxys porque and es una palabra reservada"
   ]
  },
  {
   "cell_type": "code",
   "execution_count": 45,
   "metadata": {},
   "outputs": [
    {
     "name": "stdout",
     "output_type": "stream",
     "text": [
      "1 <class 'int'>\n"
     ]
    }
   ],
   "source": [
    "var0 = 3 // 2\n",
    "var1 = type(var0)\n",
    "print(var0, var1)\n",
    "#1 y 'int'"
   ]
  },
  {
   "cell_type": "code",
   "execution_count": null,
   "metadata": {},
   "outputs": [],
   "source": [
    "0var = 3**2\n",
    "print(0var)\n",
    "#va a mostrar error de sintaxis porque una variable no puede iniciar con numeros"
   ]
  },
  {
   "cell_type": "code",
   "execution_count": 46,
   "metadata": {},
   "outputs": [
    {
     "name": "stdout",
     "output_type": "stream",
     "text": [
      "7\n"
     ]
    }
   ],
   "source": [
    "variable = 3 + 2 *2\n",
    "print(variable)\n",
    "#va a mostrar 7 porque primero es la multiplicacion y luego la suma"
   ]
  },
  {
   "cell_type": "code",
   "execution_count": null,
   "metadata": {},
   "outputs": [],
   "source": [
    "variable = 3 + 2 / 2\n",
    "print(type(variable))\n",
    "# va a mostrar el tipo que es float porque un int y un float da como resultado un float"
   ]
  },
  {
   "cell_type": "code",
   "execution_count": null,
   "metadata": {},
   "outputs": [],
   "source": [
    "type(3.5 * 2)\n",
    "# va a devolver el tipo que es un float"
   ]
  },
  {
   "cell_type": "code",
   "execution_count": null,
   "metadata": {},
   "outputs": [],
   "source": [
    "4 + 3 * 2 ** 3 / 8\n",
    "# el resultado 7 porque primero es la potencia que da 8 luego la multtiplicacion que da 24, luego la division que da 3 y por ultimo la suma que da 7"
   ]
  },
  {
   "cell_type": "code",
   "execution_count": null,
   "metadata": {},
   "outputs": [],
   "source": [
    "3-1 > 3-2\n",
    "#el resultado es True porque 2 es mayor que 1"
   ]
  },
  {
   "cell_type": "code",
   "execution_count": null,
   "metadata": {},
   "outputs": [],
   "source": [
    "not True or True\n",
    "#el resultado es True porque primero se evalua el not y luego el or"
   ]
  },
  {
   "cell_type": "code",
   "execution_count": null,
   "metadata": {},
   "outputs": [],
   "source": [
    "1 == 3 % 2 and 0 == 3 % 3\n",
    "# el resultado de esto es True"
   ]
  },
  {
   "cell_type": "code",
   "execution_count": 42,
   "metadata": {},
   "outputs": [
    {
     "data": {
      "text/plain": [
       "1"
      ]
     },
     "execution_count": 42,
     "metadata": {},
     "output_type": "execute_result"
    }
   ],
   "source": [
    "3%2"
   ]
  },
  {
   "cell_type": "code",
   "execution_count": 43,
   "metadata": {},
   "outputs": [
    {
     "data": {
      "text/plain": [
       "0"
      ]
     },
     "execution_count": 43,
     "metadata": {},
     "output_type": "execute_result"
    }
   ],
   "source": [
    "3%3"
   ]
  },
  {
   "cell_type": "code",
   "execution_count": null,
   "metadata": {},
   "outputs": [
    {
     "name": "stdout",
     "output_type": "stream",
     "text": [
      "71.0\n"
     ]
    }
   ],
   "source": [
    "print(4 + 5 * 8 + 9 **2 /3)\n",
    "# 4 + 5 * 8 + 81 / 3\n",
    "# 4 + 5 * 8 + 27\n",
    "# 4 + 40 + 27\n",
    "# 71"
   ]
  },
  {
   "cell_type": "code",
   "execution_count": 72,
   "metadata": {},
   "outputs": [
    {
     "name": "stdout",
     "output_type": "stream",
     "text": [
      "14.0\n"
     ]
    }
   ],
   "source": [
    "print(6 + 4 * 7 - 10 ** 2 / 5)\n",
    "# 6 +4 *7 - 100 / 5\n",
    "# 6 + 4 * 7 - 20\n",
    "# 6 + 28 - 20\n",
    "# 14\n"
   ]
  },
  {
   "cell_type": "code",
   "execution_count": null,
   "metadata": {},
   "outputs": [
    {
     "name": "stdout",
     "output_type": "stream",
     "text": [
      "5.25\n"
     ]
    }
   ],
   "source": [
    "print(3 * (8+6) / 2 **3)\n",
    "# 3 * (14) / 8 \n",
    "# 42 / 8\n",
    "# 5.25  "
   ]
  },
  {
   "cell_type": "code",
   "execution_count": 74,
   "metadata": {},
   "outputs": [
    {
     "name": "stdout",
     "output_type": "stream",
     "text": [
      "117.0\n"
     ]
    }
   ],
   "source": [
    "print((5 + 3 * 2) ** 2 - 12 / 3)\n",
    "# 11 ** 2 - 12 / 3\n",
    "# 121 - 12 / 3\n",
    "#121 - 4\n",
    "#117"
   ]
  },
  {
   "cell_type": "code",
   "execution_count": 75,
   "metadata": {},
   "outputs": [
    {
     "name": "stdout",
     "output_type": "stream",
     "text": [
      "44.0\n"
     ]
    }
   ],
   "source": [
    "print(9 ** 2 / 3 + 4 * 6 - 7)\n",
    "# 81 / 3 + 4 * 6 - 7\n",
    "# 27 + 4 * 6 - 7\n",
    "# 27 + 24 - 7\n",
    "# 44 - 7\n",
    "# 44"
   ]
  },
  {
   "cell_type": "code",
   "execution_count": null,
   "metadata": {},
   "outputs": [
    {
     "name": "stdout",
     "output_type": "stream",
     "text": [
      "338.0\n"
     ]
    }
   ],
   "source": [
    "print((8 * 3 + 2) ** 2 / (5 - 3))\n",
    "# 26 ** 2 / 2\n",
    "# 676 / 2\n",
    "# 338"
   ]
  },
  {
   "cell_type": "code",
   "execution_count": null,
   "metadata": {},
   "outputs": [
    {
     "name": "stdout",
     "output_type": "stream",
     "text": [
      "6.333333333333334\n"
     ]
    }
   ],
   "source": [
    "print(15 - (3 ** 2 + 4) * 2 / 3)\n",
    "# 15 -(9+4) *2 / 3\n",
    "# 15 - 13 * 2 / 3\n",
    "# 15 - 26 / 3\n",
    "# -3.33"
   ]
  },
  {
   "cell_type": "markdown",
   "metadata": {},
   "source": [
    "# FLUJOS DE CONTROL"
   ]
  },
  {
   "cell_type": "markdown",
   "metadata": {},
   "source": [
    "### IF"
   ]
  },
  {
   "cell_type": "markdown",
   "metadata": {},
   "source": [
    "#### If es una sentencia condicional que evalua una expresion y ejecuta algo cuando esta es verdadera. If evalua una sentencia Falsa cuando:\n",
    "\n",
    "    * cuando contenga un numero = 0 \n",
    "    * cuando reciba una coleccion de elementos vacia como str lista tupla o dict\n",
    "    * cuando reciba Nan\n",
    "    * Cuando el resultado de la expresion sea False "
   ]
  },
  {
   "cell_type": "code",
   "execution_count": 7,
   "metadata": {},
   "outputs": [
    {
     "name": "stdout",
     "output_type": "stream",
     "text": [
      "Sigue estudiando...\n"
     ]
    }
   ],
   "source": [
    "nota = float(input(\"Escribe tu nota: \"))\n",
    "\n",
    "if nota >=8:\n",
    "    print(\"Eres muy buen estudiandte\")\n",
    "else:\n",
    "    print(\"Sigue estudiando...\")"
   ]
  },
  {
   "cell_type": "code",
   "execution_count": 10,
   "metadata": {},
   "outputs": [
    {
     "name": "stdout",
     "output_type": "stream",
     "text": [
      "El numero es impar :(\n"
     ]
    }
   ],
   "source": [
    "numero = int(input(\"Ingrese un numero mayor que cero: \"))\n",
    "\n",
    "if numero%2 == 0:\n",
    "    print(\"El numero es par!!!\")\n",
    "else:\n",
    "    print(\"El numero es impar :(\")"
   ]
  },
  {
   "cell_type": "code",
   "execution_count": 15,
   "metadata": {},
   "outputs": [
    {
     "name": "stdout",
     "output_type": "stream",
     "text": [
      "El numero es positivo ++++\n"
     ]
    }
   ],
   "source": [
    "numero2 = int(input(\"Ingreso un numero, ya sea poisitovo o negativo: \"))\n",
    "\n",
    "if numero2 >= 0:\n",
    "    print(\"El numero es positivo ++++\")\n",
    "else:\n",
    "    print(\"El numero es negativo ----\")"
   ]
  },
  {
   "cell_type": "code",
   "execution_count": 21,
   "metadata": {},
   "outputs": [
    {
     "name": "stdout",
     "output_type": "stream",
     "text": [
      "Tienes  14 Años y No eres mayor de edad para entrar a la discoteca\n"
     ]
    }
   ],
   "source": [
    "edad = int(input(\"Ingresa tu edad: \"))\n",
    "\n",
    "if edad >= 18:\n",
    "    print(\"Eres mayor de edad\")\n",
    "else:\n",
    "    print(f\"Tienes  {edad} Años y No eres mayor de edad para entrar a la discoteca\")"
   ]
  },
  {
   "cell_type": "code",
   "execution_count": 25,
   "metadata": {},
   "outputs": [
    {
     "name": "stdout",
     "output_type": "stream",
     "text": [
      "Reprobado\n"
     ]
    }
   ],
   "source": [
    "calificacion = int(input(\"Ingresa tu calificacion: \"))\n",
    "\n",
    "if calificacion >=80:\n",
    "    print(\"Aprobado\")\n",
    "elif calificacion >=55 and calificacion <= 79:\n",
    "    print(\"Recuperacion\")\n",
    "else:\n",
    "    print(\"Reprobado\")"
   ]
  },
  {
   "cell_type": "code",
   "execution_count": 45,
   "metadata": {},
   "outputs": [
    {
     "name": "stdout",
     "output_type": "stream",
     "text": [
      "El numero 8 no es multiplo de 3 ni de 5\n"
     ]
    }
   ],
   "source": [
    "numero3 = int(input(\"Ingresa un numero: \"))\n",
    "\n",
    "if numero3%3 ==0 and numero3%5 ==0:\n",
    "    print(f\"El numero {numero3} es multiplo de 3 y de 5\")    \n",
    "elif numero3%3 == 0 and numero3%5 !=0:\n",
    "    print(f\"El numero {numero3} es multiplo de 3 pero no de 5\")\n",
    "elif numero3%3 ==1 and numero3%5 ==0:\n",
    "    print(f\"El numero {numero3} no es multiple de 3 pero si de 5\")\n",
    "else:\n",
    "    print(f\"El numero {numero3} no es multiplo de 3 ni de 5\")\n"
   ]
  },
  {
   "cell_type": "code",
   "execution_count": 49,
   "metadata": {},
   "outputs": [
    {
     "name": "stdout",
     "output_type": "stream",
     "text": [
      "El valor de tu articulo es de 100 y no tiene descuentos\n"
     ]
    }
   ],
   "source": [
    "montocompra = int(input(\"Ingrese el monto de la compra: \"))\n",
    "\n",
    "if montocompra > 100:\n",
    "    descuento = montocompra * 0.10\n",
    "    totalpagar = montocompra - descuento\n",
    "    print(f\"Te descontaremos {descuento}, el valor a pagar es de {totalpagar}\")\n",
    "else:\n",
    "    print(f\"El valor de tu articulo es de {montocompra} y no tiene descuentos\")"
   ]
  },
  {
   "cell_type": "markdown",
   "metadata": {},
   "source": [
    "### WHILE"
   ]
  },
  {
   "cell_type": "markdown",
   "metadata": {},
   "source": [
    "#### Sirve para iterar un bloque de codigo, es decir ejecutar repetidamente hasta que se deje de cumplir la condición"
   ]
  },
  {
   "cell_type": "code",
   "execution_count": 1,
   "metadata": {},
   "outputs": [
    {
     "name": "stdout",
     "output_type": "stream",
     "text": [
      "El contenido de contador es  2\n",
      "El contenido de contador es  1\n",
      "El contenido de contador es  0\n"
     ]
    }
   ],
   "source": [
    "contador = 3\n",
    "\n",
    "while contador !=0:\n",
    "    contador = contador -1\n",
    "    print(\"El contenido de contador es \", contador)\n",
    "    "
   ]
  },
  {
   "cell_type": "code",
   "execution_count": 6,
   "metadata": {},
   "outputs": [
    {
     "name": "stdout",
     "output_type": "stream",
     "text": [
      "1\n",
      "2\n",
      "3\n"
     ]
    }
   ],
   "source": [
    "num = int(input(\"Ingrese numero entero positivo: \"))\n",
    "contador = 0\n",
    "while contador != num:\n",
    "    if num >=0:\n",
    "        contador = contador + 1\n",
    "    else:\n",
    "        print(f\"El numero {num} que ingresó no es positivo\")\n",
    "        num = int(input(\"Ingrese numero entero positivo: \"))\n",
    "    print(contador)  "
   ]
  },
  {
   "cell_type": "code",
   "execution_count": 18,
   "metadata": {},
   "outputs": [
    {
     "name": "stdout",
     "output_type": "stream",
     "text": [
      "El numero 2 NO Es correcto, INTENTA NUEVAMENTE\n",
      "el numero 3 es el numero correcto\n"
     ]
    }
   ],
   "source": [
    "import random \n",
    "num2 =int(input(\"Ingrese el numero que cree que tiene la variable, este debe ser entero positivo: \"))\n",
    "\n",
    "variable = 3\n",
    "\n",
    "while num2 != variable:\n",
    "    print(f\"El numero {num2} NO Es correcto, INTENTA NUEVAMENTE\")\n",
    "    num2 = int(input(\"Ingrese el numero que cree que tiene la variable, este debe ser entero positivo: \"))  \n",
    "\n",
    "print(f\"el numero {num2} es el numero correcto\")\n",
    "    \n",
    "        "
   ]
  },
  {
   "cell_type": "code",
   "execution_count": null,
   "metadata": {},
   "outputs": [
    {
     "name": "stdout",
     "output_type": "stream",
     "text": [
      " Te quedan , 2, intentos\n",
      " Te quedan , 1, intentos\n",
      " Te quedan , 0, intentos\n",
      "Se han agotado los intentos\n"
     ]
    }
   ],
   "source": [
    "intentos = 3\n",
    "\n",
    "while intentos > 0:\n",
    "    if input(\">>>> Escriba la contraseña: \") == \"secreto\":\n",
    "        print(\"Contraseña correcta\")\n",
    "        break\n",
    "    intentos = intentos - 1\n",
    "    print(f\" Te quedan , {intentos}, intentos\" )\n",
    "else:\n",
    "    print(\"Se han agotado los intentos\")\n",
    "    "
   ]
  },
  {
   "cell_type": "code",
   "execution_count": 43,
   "metadata": {},
   "outputs": [
    {
     "name": "stdout",
     "output_type": "stream",
     "text": [
      "Faltan 4 segundos para la explosión\n",
      "Faltan 3 segundos para la explosión\n",
      "Faltan 2 segundos para la explosión\n",
      "Faltan 1 segundos para la explosión\n",
      "Faltan 0 segundos para la explosión\n",
      "<<<<<<BOOOOMMMM>>>>>>\n"
     ]
    }
   ],
   "source": [
    "num = int(input(\"Ingrese un numero entero positivo: \"))\n",
    "conteo = num\n",
    "while conteo != 0:\n",
    "        conteo = conteo - 1 \n",
    "        print(f\"Faltan {conteo} segundos para la explosión\")\n",
    "\n",
    "print(\"<<<<<<BOOOOMMMM>>>>>>\")\n",
    "        \n",
    "        \n",
    "        "
   ]
  },
  {
   "cell_type": "markdown",
   "metadata": {},
   "source": [
    "### FOR"
   ]
  },
  {
   "cell_type": "markdown",
   "metadata": {},
   "source": [
    "#### Sirve para iterar sobre una coleccion de elementos"
   ]
  },
  {
   "cell_type": "code",
   "execution_count": 19,
   "metadata": {},
   "outputs": [
    {
     "name": "stdout",
     "output_type": "stream",
     "text": [
      "1\n",
      "5\n",
      "7\n",
      "8\n"
     ]
    }
   ],
   "source": [
    "coleccion = [1,5,7,8]\n",
    "for iterador in coleccion:\n",
    "    print(iterador)"
   ]
  },
  {
   "cell_type": "code",
   "execution_count": 21,
   "metadata": {},
   "outputs": [
    {
     "name": "stdout",
     "output_type": "stream",
     "text": [
      "indice:  0  Elemento:  texto1\n",
      "indice:  1  Elemento:  texto2\n",
      "indice:  2  Elemento:  texto3\n",
      "indice:  3  Elemento:  texto4\n"
     ]
    }
   ],
   "source": [
    "lista = [\"texto1\", \"texto2\", \"texto3\", \"texto4\"]\n",
    "\n",
    "for i in range(len(lista)):\n",
    "    print(\"indice: \", i, \" Elemento: \", lista[i])"
   ]
  },
  {
   "cell_type": "code",
   "execution_count": 2,
   "metadata": {},
   "outputs": [
    {
     "name": "stdout",
     "output_type": "stream",
     "text": [
      "La suma de los valores es: 1\n",
      "La suma de los valores es: 3\n",
      "La suma de los valores es: 5\n",
      "La suma de los valores es: 7\n",
      "La suma de los valores es: 9\n",
      "La suma de los valores es: 11\n",
      "La suma de los valores es: 13\n",
      "La suma de los valores es: 15\n",
      "La suma de los valores es: 17\n",
      "La suma de los valores es: 19\n",
      "La suma de los valores es: 21\n",
      "La suma de los valores es: 23\n",
      "La suma de los valores es: 25\n",
      "La suma de los valores es: 27\n",
      "La suma de los valores es: 29\n",
      "La suma de los valores es: 31\n",
      "La suma de los valores es: 33\n",
      "La suma de los valores es: 35\n",
      "La suma de los valores es: 37\n",
      "La suma de los valores es: 39\n",
      "La suma de los valores es: 41\n",
      "La suma de los valores es: 43\n",
      "La suma de los valores es: 45\n",
      "La suma de los valores es: 47\n",
      "La suma de los valores es: 49\n",
      "La suma de los valores es: 51\n",
      "La suma de los valores es: 53\n",
      "La suma de los valores es: 55\n",
      "La suma de los valores es: 57\n",
      "La suma de los valores es: 59\n",
      "La suma de los valores es: 61\n",
      "La suma de los valores es: 63\n",
      "La suma de los valores es: 65\n",
      "La suma de los valores es: 67\n",
      "La suma de los valores es: 69\n",
      "La suma de los valores es: 71\n",
      "La suma de los valores es: 73\n",
      "La suma de los valores es: 75\n",
      "La suma de los valores es: 77\n",
      "La suma de los valores es: 79\n",
      "La suma de los valores es: 81\n",
      "La suma de los valores es: 83\n",
      "La suma de los valores es: 85\n",
      "La suma de los valores es: 87\n",
      "La suma de los valores es: 89\n",
      "La suma de los valores es: 91\n",
      "La suma de los valores es: 93\n",
      "La suma de los valores es: 95\n",
      "La suma de los valores es: 97\n",
      "La suma de los valores es: 99\n",
      "La suma de los valores es: 101\n",
      "La suma de los valores es: 103\n",
      "La suma de los valores es: 105\n",
      "La suma de los valores es: 107\n",
      "La suma de los valores es: 109\n",
      "La suma de los valores es: 111\n",
      "La suma de los valores es: 113\n",
      "La suma de los valores es: 115\n",
      "La suma de los valores es: 117\n",
      "La suma de los valores es: 119\n",
      "La suma de los valores es: 121\n",
      "La suma de los valores es: 123\n",
      "La suma de los valores es: 125\n",
      "La suma de los valores es: 127\n",
      "La suma de los valores es: 129\n",
      "La suma de los valores es: 131\n",
      "La suma de los valores es: 133\n",
      "La suma de los valores es: 135\n",
      "La suma de los valores es: 137\n",
      "La suma de los valores es: 139\n",
      "La suma de los valores es: 141\n",
      "La suma de los valores es: 143\n",
      "La suma de los valores es: 145\n",
      "La suma de los valores es: 147\n",
      "La suma de los valores es: 149\n",
      "La suma de los valores es: 151\n",
      "La suma de los valores es: 153\n",
      "La suma de los valores es: 155\n",
      "La suma de los valores es: 157\n",
      "La suma de los valores es: 159\n",
      "La suma de los valores es: 161\n",
      "La suma de los valores es: 163\n",
      "La suma de los valores es: 165\n",
      "La suma de los valores es: 167\n",
      "La suma de los valores es: 169\n",
      "La suma de los valores es: 171\n",
      "La suma de los valores es: 173\n",
      "La suma de los valores es: 175\n",
      "La suma de los valores es: 177\n",
      "La suma de los valores es: 179\n",
      "La suma de los valores es: 181\n",
      "La suma de los valores es: 183\n",
      "La suma de los valores es: 185\n",
      "La suma de los valores es: 187\n",
      "La suma de los valores es: 189\n",
      "La suma de los valores es: 191\n",
      "La suma de los valores es: 193\n",
      "La suma de los valores es: 195\n",
      "La suma de los valores es: 197\n",
      "La suma de los valores es: 199\n"
     ]
    }
   ],
   "source": [
    "for i in range(100):\n",
    "    num_anterior = i\n",
    "    i = i + 1\n",
    "    suma = num_anterior + i\n",
    "    print(f\"La suma de los valores es: {suma}\")\n"
   ]
  },
  {
   "cell_type": "markdown",
   "metadata": {},
   "source": [
    "### Definición de funciones"
   ]
  },
  {
   "cell_type": "markdown",
   "metadata": {},
   "source": [
    "#### una funcion es un bloque que permite compactar y reutilizar el codigo sin tener que repetirlo una y otra vez"
   ]
  },
  {
   "cell_type": "code",
   "execution_count": null,
   "metadata": {},
   "outputs": [],
   "source": [
    "def mi_funcion():\n",
    "    pass"
   ]
  },
  {
   "cell_type": "code",
   "execution_count": 8,
   "metadata": {},
   "outputs": [
    {
     "name": "stdout",
     "output_type": "stream",
     "text": [
      "El texto que acabas de ingresar es: Alien\n"
     ]
    }
   ],
   "source": [
    "def saludar(saludo):\n",
    "    saludo = input(\"ingresa un texto: \")\n",
    "    print(f\"El texto que acabas de ingresar es: {saludo}\")\n",
    "\n",
    "saludar(\"dato\")"
   ]
  },
  {
   "cell_type": "code",
   "execution_count": 12,
   "metadata": {},
   "outputs": [
    {
     "data": {
      "text/plain": [
       "6.666666666666667"
      ]
     },
     "execution_count": 12,
     "metadata": {},
     "output_type": "execute_result"
    }
   ],
   "source": [
    "def calificacines(nota1,nota2,nota3):\n",
    "    calculo = (nota1 + nota2 + nota3) / 3\n",
    "    return calculo\n",
    "    #print(f\"La nota final es: {calculo}\")\n",
    "    \n",
    "calificacines(5,7,8)"
   ]
  },
  {
   "cell_type": "markdown",
   "metadata": {},
   "source": [
    "#### Nota: las variables dentro de las funciones son llamadas variables locales y si se las llama por fuera de la funcion no existen"
   ]
  },
  {
   "cell_type": "markdown",
   "metadata": {},
   "source": [
    "## Ejercicio Final del Aprendizaje (Calculadora)"
   ]
  },
  {
   "cell_type": "code",
   "execution_count": null,
   "metadata": {},
   "outputs": [],
   "source": [
    "def calculadora(a,b):\n",
    "    sumando = a+b\n",
    "    restando = a-b\n",
    "    multiplicando = a*b\n",
    "    dividiendo = a/b\n",
    "    print(f\"La suma de los numeros es: {sumando}\")\n",
    "    print(f\"La resta de los numeros es: {restando}\")\n",
    "    print(f\"La multiplicacion de los numeros es: {multiplicando}\")\n",
    "    print(f\"La division de los numeros es: {dividiendo}\")\n",
    "    "
   ]
  },
  {
   "cell_type": "code",
   "execution_count": 19,
   "metadata": {},
   "outputs": [
    {
     "name": "stdout",
     "output_type": "stream",
     "text": [
      "La suma de los numeros es: 5\n",
      "La resta de los numeros es: 1\n",
      "La multiplicacion de los numeros es: 6\n",
      "La division de los numeros es: 1.5\n"
     ]
    }
   ],
   "source": [
    "calculadora(3,2)"
   ]
  },
  {
   "cell_type": "markdown",
   "metadata": {},
   "source": [
    "### Parámetros"
   ]
  },
  {
   "cell_type": "markdown",
   "metadata": {},
   "source": [
    "#### Los parametros son aquellos que se le asigna a la funcion def al inicio asi\n",
    "\n",
    "def xxx(param1, param2)\n",
    "    "
   ]
  },
  {
   "cell_type": "markdown",
   "metadata": {},
   "source": [
    "#### a los parametros se les asigna argumentos, ya sean calculos o valores quemados"
   ]
  },
  {
   "cell_type": "markdown",
   "metadata": {},
   "source": [
    "## Ejercicio Final del aprendizaje (Juego adivinanza de numeros)"
   ]
  },
  {
   "cell_type": "code",
   "execution_count": 29,
   "metadata": {},
   "outputs": [
    {
     "name": "stdout",
     "output_type": "stream",
     "text": [
      "Incorrecto Intenta de nuevo\n",
      "Incorrecto Intenta de nuevo\n",
      "Incorrecto Intenta de nuevo\n",
      "Incorrecto Intenta de nuevo\n",
      "Incorrecto Intenta de nuevo\n",
      "Incorrecto Intenta de nuevo\n",
      "Correcto\n"
     ]
    }
   ],
   "source": [
    "numeroSeleccionado = 6\n",
    "num = int(input(\"Ingrese un numero entero positivo: \"))\n",
    "\n",
    "while num != numeroSeleccionado:\n",
    "    \n",
    "    if num != numeroSeleccionado:\n",
    "        print(\"Incorrecto Intenta de nuevo\")\n",
    "        num = int(input(\"Ingrese un numero entero positivo: \"))\n",
    "    else:\n",
    "        print(\"Correcto\")\n",
    "\n",
    "print(\"Correcto\")\n",
    "        "
   ]
  },
  {
   "cell_type": "code",
   "execution_count": null,
   "metadata": {},
   "outputs": [],
   "source": []
  }
 ],
 "metadata": {
  "kernelspec": {
   "display_name": "python-project-7GAFeZYo-py3.11",
   "language": "python",
   "name": "python3"
  },
  "language_info": {
   "codemirror_mode": {
    "name": "ipython",
    "version": 3
   },
   "file_extension": ".py",
   "mimetype": "text/x-python",
   "name": "python",
   "nbconvert_exporter": "python",
   "pygments_lexer": "ipython3",
   "version": "3.11.10"
  }
 },
 "nbformat": 4,
 "nbformat_minor": 2
}
