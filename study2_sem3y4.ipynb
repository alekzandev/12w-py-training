{
 "cells": [
  {
   "cell_type": "markdown",
   "metadata": {},
   "source": [
    "## Listas"
   ]
  },
  {
   "cell_type": "markdown",
   "metadata": {},
   "source": [
    "Las listas son:\n",
    "* ordenadas\n",
    "* heterogeneas  [\"texto\", 4, 4.5, True]\n",
    "* mutables"
   ]
  },
  {
   "cell_type": "code",
   "execution_count": 10,
   "metadata": {},
   "outputs": [
    {
     "name": "stdout",
     "output_type": "stream",
     "text": [
      "[1, 2, 3, 'texto', 4.5, 2, 'aaaa', 2]\n"
     ]
    }
   ],
   "source": [
    "lista = [1,2,3, \"texto\", 4.5,2,\"aaaa\",2]\n",
    "print(lista)"
   ]
  },
  {
   "cell_type": "code",
   "execution_count": 11,
   "metadata": {},
   "outputs": [
    {
     "name": "stdout",
     "output_type": "stream",
     "text": [
      "texto\n"
     ]
    }
   ],
   "source": [
    "# Para acceder a una lista se hace con el indice\n",
    "print(lista[3])"
   ]
  },
  {
   "cell_type": "markdown",
   "metadata": {},
   "source": [
    "Para buscar elementos en un rango de posiciones"
   ]
  },
  {
   "cell_type": "code",
   "execution_count": 23,
   "metadata": {},
   "outputs": [
    {
     "name": "stdout",
     "output_type": "stream",
     "text": [
      "[2, 3]\n"
     ]
    }
   ],
   "source": [
    "print(lista[1:3]) "
   ]
  },
  {
   "cell_type": "markdown",
   "metadata": {},
   "source": [
    "Para adicionar un elemento al final se utiliza append"
   ]
  },
  {
   "cell_type": "code",
   "execution_count": 25,
   "metadata": {},
   "outputs": [
    {
     "name": "stdout",
     "output_type": "stream",
     "text": [
      "[1, 2, 3, 'texto', 4.5, 2, 'aaaa', 2, 'nuevo', 'nuevo', 'nuevo']\n"
     ]
    }
   ],
   "source": [
    "lista.append(\"nuevo\")\n",
    "print(lista)"
   ]
  },
  {
   "cell_type": "code",
   "execution_count": 26,
   "metadata": {},
   "outputs": [],
   "source": [
    "lista.count(2) #cuenta el numero de veces que se repite un elemento\n",
    "lista.index(2) #devuelve el indice de la primera ocurrencia de un elemento\n",
    "lista.insert(2, \"elemento nuevo\") #inserta un elemento en un indice especifico"
   ]
  },
  {
   "cell_type": "code",
   "execution_count": 27,
   "metadata": {},
   "outputs": [
    {
     "name": "stdout",
     "output_type": "stream",
     "text": [
      "[1, 2, 'elemento nuevo', 3, 'texto', 4.5, 2, 'aaaa', 2, 'nuevo', 'nuevo', 'nuevo']\n"
     ]
    }
   ],
   "source": [
    "print(lista)"
   ]
  },
  {
   "cell_type": "markdown",
   "metadata": {},
   "source": [
    "## Tuplas"
   ]
  },
  {
   "cell_type": "markdown",
   "metadata": {},
   "source": [
    "Son elementos \n",
    "* ordenados\n",
    "* heterogeneos\n",
    "* inmutables\n"
   ]
  },
  {
   "cell_type": "code",
   "execution_count": 17,
   "metadata": {},
   "outputs": [
    {
     "name": "stdout",
     "output_type": "stream",
     "text": [
      "(8, 9, 'hola', 6.8, 'xxxx', True, False)\n"
     ]
    }
   ],
   "source": [
    "tupla = (8,9,\"hola\", 6.8,\"xxxx\", True, False)\n",
    "print(tupla)"
   ]
  },
  {
   "cell_type": "markdown",
   "metadata": {},
   "source": [
    "a las tuplas no se les puede adicionar o cambiar elementos ya que son inmutables"
   ]
  },
  {
   "cell_type": "markdown",
   "metadata": {},
   "source": [
    "## Conjuntos"
   ]
  },
  {
   "cell_type": "markdown",
   "metadata": {},
   "source": [
    "Son elementos:\n",
    "* No ordenados\n",
    "* heterogeneos\n",
    "* mutables\n",
    "* sin repeticion"
   ]
  },
  {
   "cell_type": "code",
   "execution_count": 18,
   "metadata": {},
   "outputs": [
    {
     "data": {
      "text/plain": [
       "set()"
      ]
     },
     "execution_count": 18,
     "metadata": {},
     "output_type": "execute_result"
    }
   ],
   "source": [
    "#Para crear conjunto vacio \n",
    "set()"
   ]
  },
  {
   "cell_type": "code",
   "execution_count": null,
   "metadata": {},
   "outputs": [
    {
     "name": "stdout",
     "output_type": "stream",
     "text": [
      "{57, 2, 66, 5}\n",
      "{57, 2, 668, 5}\n",
      "{'o', 'a', 'l', 'h'}\n"
     ]
    }
   ],
   "source": [
    "print(set([2,5,57,66])) # se le puede pasar lista\n",
    "print(set((2,5,57,668))) # se le puede pasar tupla\n",
    "print(set(\"hola\")) # se le puede pasar string"
   ]
  },
  {
   "cell_type": "markdown",
   "metadata": {},
   "source": [
    "uno de sus objetivos es eliminar elementos repetidos de sus secuencias"
   ]
  },
  {
   "cell_type": "code",
   "execution_count": 22,
   "metadata": {},
   "outputs": [
    {
     "name": "stdout",
     "output_type": "stream",
     "text": [
      "{2, 3, 4, 5, 7}\n"
     ]
    }
   ],
   "source": [
    "conjunto =set([2,3,4,3,5,3,3,3,3,3,3,3,3,7])\n",
    "print(conjunto)"
   ]
  },
  {
   "cell_type": "markdown",
   "metadata": {},
   "source": [
    "para añadir elementos al conjunto utilizamos el metodo add()"
   ]
  },
  {
   "cell_type": "code",
   "execution_count": 30,
   "metadata": {},
   "outputs": [
    {
     "name": "stdout",
     "output_type": "stream",
     "text": [
      "{2, 3, 4, 5, 7, 15, 88}\n"
     ]
    }
   ],
   "source": [
    "conjunto.add(15)\n",
    "print(conjunto)"
   ]
  },
  {
   "cell_type": "markdown",
   "metadata": {},
   "source": [
    "para eliminar elemntos utilizamos el metodo remove()"
   ]
  },
  {
   "cell_type": "code",
   "execution_count": 31,
   "metadata": {},
   "outputs": [
    {
     "name": "stdout",
     "output_type": "stream",
     "text": [
      "{2, 4, 5, 7, 15, 88}\n"
     ]
    }
   ],
   "source": [
    "conjunto.remove(3)\n",
    "print(conjunto)"
   ]
  },
  {
   "cell_type": "code",
   "execution_count": 32,
   "metadata": {},
   "outputs": [
    {
     "name": "stdout",
     "output_type": "stream",
     "text": [
      "{1, 2, 3, 4, 5} {4, 5, 6}\n"
     ]
    }
   ],
   "source": [
    "conjunto1 = set([1,2,3,4,5])\n",
    "conjunto2 = set([4,5,6])\n",
    "print(conjunto1, conjunto2)"
   ]
  },
  {
   "cell_type": "markdown",
   "metadata": {},
   "source": [
    "Para visualizar la interseccion entre 2 conjuntos usamos el metodo intersection"
   ]
  },
  {
   "cell_type": "code",
   "execution_count": null,
   "metadata": {},
   "outputs": [
    {
     "name": "stdout",
     "output_type": "stream",
     "text": [
      "{4, 5}\n"
     ]
    }
   ],
   "source": [
    "print(conjunto1.intersection(conjunto2)) #interseccion de los elementos iguales en ambos conjuntos"
   ]
  },
  {
   "cell_type": "markdown",
   "metadata": {},
   "source": [
    "Con issubset podemos ver si los elementos de un conjunto estan contenidos en otro"
   ]
  },
  {
   "cell_type": "code",
   "execution_count": 34,
   "metadata": {},
   "outputs": [
    {
     "name": "stdout",
     "output_type": "stream",
     "text": [
      "False\n"
     ]
    }
   ],
   "source": [
    "print(conjunto1.issubset(conjunto2)) #verifica si un conjunto es subconjunto de otro"
   ]
  },
  {
   "cell_type": "markdown",
   "metadata": {},
   "source": [
    "### Operadores de conjuntos"
   ]
  },
  {
   "cell_type": "markdown",
   "metadata": {},
   "source": [
    "* A|B --> union                  A & B --> interseccion\n",
    "* A-B --> diferencia             A ^ B --> diferencia simetrica\n",
    "* A>=B --> superconjunto         A <= B --> subconjunto\n"
   ]
  },
  {
   "cell_type": "markdown",
   "metadata": {},
   "source": [
    "## Diccionarios"
   ]
  },
  {
   "cell_type": "markdown",
   "metadata": {},
   "source": [
    "Son elementos:\n",
    "* No ordenados\n",
    "* heterogeneos {1:\"a\" , 3:4 , 2:True}\n",
    "* mutables"
   ]
  },
  {
   "cell_type": "code",
   "execution_count": 36,
   "metadata": {},
   "outputs": [
    {
     "name": "stdout",
     "output_type": "stream",
     "text": [
      "{'clave1': 234, 'clave2': 345, 'clave3': 456}\n"
     ]
    }
   ],
   "source": [
    "diccionario = {\"clave1\":234, \"clave2\":345, \"clave3\":456}\n",
    "print(diccionario)"
   ]
  },
  {
   "cell_type": "code",
   "execution_count": 38,
   "metadata": {},
   "outputs": [
    {
     "name": "stdout",
     "output_type": "stream",
     "text": [
      "{'clave1': 999, 'clave2': 345, 'clave3': 456}\n"
     ]
    }
   ],
   "source": [
    "#para cambiar el valor de la key\n",
    "diccionario[\"clave1\"] = 999\n",
    "print(diccionario)"
   ]
  },
  {
   "cell_type": "code",
   "execution_count": 39,
   "metadata": {},
   "outputs": [
    {
     "name": "stdout",
     "output_type": "stream",
     "text": [
      "{'clave1': 234, 'clave2': 345, 'clave3': 456}\n"
     ]
    }
   ],
   "source": [
    "# tambien se puede crear un diccionario con la palabra dict\n",
    "diccionario2 = dict(clave1=234, clave2=345, clave3=456)\n",
    "print(diccionario2)"
   ]
  },
  {
   "cell_type": "markdown",
   "metadata": {},
   "source": [
    "Ojo la key es inmutable y no se debe repetir"
   ]
  },
  {
   "cell_type": "code",
   "execution_count": 41,
   "metadata": {},
   "outputs": [
    {
     "name": "stdout",
     "output_type": "stream",
     "text": [
      "dict_keys(['clave1', 'clave2', 'clave3']) dict_values([999, 345, 456]) dict_items([('clave1', 999), ('clave2', 345), ('clave3', 456)])\n"
     ]
    }
   ],
   "source": [
    "print(diccionario.keys(), diccionario.values(), diccionario.items()) #devuelve las claves"
   ]
  },
  {
   "cell_type": "markdown",
   "metadata": {},
   "source": [
    "## Ejercicio 1"
   ]
  },
  {
   "cell_type": "markdown",
   "metadata": {},
   "source": [
    "Escribe un programa que tome una frase como entrada del usuario y cuente la cantidad de veces que aparece cada palabra única. Debes ignorar las mayúsculas y puntuación."
   ]
  },
  {
   "cell_type": "code",
   "execution_count": null,
   "metadata": {},
   "outputs": [
    {
     "name": "stdout",
     "output_type": "stream",
     "text": [
      "hola hola hola, como te te te te te te encuentas hoy hoy\n"
     ]
    }
   ],
   "source": [
    "write =  input(str(\"Ingresa una frase: \")) \n",
    "print(write)"
   ]
  },
  {
   "cell_type": "code",
   "execution_count": 58,
   "metadata": {},
   "outputs": [
    {
     "data": {
      "text/plain": [
       "['hola',\n",
       " 'hola',\n",
       " 'hola,',\n",
       " 'como',\n",
       " 'te',\n",
       " 'te',\n",
       " 'te',\n",
       " 'te',\n",
       " 'te',\n",
       " 'te',\n",
       " 'encuentas',\n",
       " 'hoy',\n",
       " 'hoy']"
      ]
     },
     "execution_count": 58,
     "metadata": {},
     "output_type": "execute_result"
    }
   ],
   "source": [
    "#Convierto la frase a minusculas y la separo por palabras\n",
    "covert_minus = write.lower() \n",
    "lista = covert_minus.split()\n",
    "lista"
   ]
  },
  {
   "cell_type": "code",
   "execution_count": null,
   "metadata": {},
   "outputs": [
    {
     "name": "stdout",
     "output_type": "stream",
     "text": [
      "[2, 2, 1, 1, 6, 6, 6, 6, 6, 6, 1, 2, 2]\n"
     ]
    }
   ],
   "source": [
    "#creo una lista vacia para guardar la cantidad de palabras\n",
    "cant_palabras = []\n",
    "#recorro la lista y cuento la cantidad de veces que se repite cada palabra y lo guardo  en la lista\n",
    "for i in lista:\n",
    "    cant_palabras.append(lista.count(i))\n",
    "    \n",
    "print(cant_palabras)"
   ]
  },
  {
   "cell_type": "code",
   "execution_count": null,
   "metadata": {},
   "outputs": [
    {
     "data": {
      "text/plain": [
       "{'hola': 2, 'hola,': 1, 'como': 1, 'te': 6, 'encuentas': 1, 'hoy': 2}"
      ]
     },
     "execution_count": 51,
     "metadata": {},
     "output_type": "execute_result"
    }
   ],
   "source": [
    "#defino un diccionario vacio\n",
    "diccionario = dict()\n",
    "#con la funcion zip uno las dos listas\n",
    "diccionario = dict(zip(lista,cant_palabras))\n",
    "diccionario"
   ]
  },
  {
   "cell_type": "markdown",
   "metadata": {},
   "source": [
    "## Ejercicio 2"
   ]
  },
  {
   "cell_type": "markdown",
   "metadata": {},
   "source": [
    "Implementa un programa que simule una cola de tareas. El programa debe permitir:\n",
    "* Agregar tareas nuevas.\n",
    "* Eliminar la primera tarea (procesarla).\n",
    "* Mostrar las tareas pendientes.\n"
   ]
  },
  {
   "cell_type": "code",
   "execution_count": 65,
   "metadata": {},
   "outputs": [
    {
     "name": "stdout",
     "output_type": "stream",
     "text": [
      "['lavar platos']\n"
     ]
    }
   ],
   "source": [
    "#Se definen la cantidad de tareas a realizar\n",
    "cantidad_tareas = input(str(\"ingrese en un valor numerico la cantidad de tareas que tiene que realizar: \"))\n",
    "\n",
    "tareas =[]\n",
    "#Se realizan tantas preguntas como tareas se tengan que realizar\n",
    "for i in cantidad_tareas:\n",
    "    instruccion = input(str(\"Ingrese la tarea a realizar: \"))\n",
    "    tareas.append(instruccion)\n",
    "    print(tareas)"
   ]
  },
  {
   "cell_type": "code",
   "execution_count": null,
   "metadata": {},
   "outputs": [],
   "source": []
  },
  {
   "cell_type": "code",
   "execution_count": null,
   "metadata": {},
   "outputs": [],
   "source": []
  }
 ],
 "metadata": {
  "kernelspec": {
   "display_name": "python-project-7GAFeZYo-py3.11",
   "language": "python",
   "name": "python3"
  },
  "language_info": {
   "codemirror_mode": {
    "name": "ipython",
    "version": 3
   },
   "file_extension": ".py",
   "mimetype": "text/x-python",
   "name": "python",
   "nbconvert_exporter": "python",
   "pygments_lexer": "ipython3",
   "version": "3.11.10"
  }
 },
 "nbformat": 4,
 "nbformat_minor": 2
}
